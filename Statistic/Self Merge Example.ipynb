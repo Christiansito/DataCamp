{
 "cells": [
  {
   "cell_type": "code",
   "execution_count": null,
   "metadata": {},
   "outputs": [],
   "source": [
    "# Merge the crews table to itself\n",
    "crews_self_merged = crews.merge(crews, on='id', how='inner',\n",
    "                                suffixes=('_dir','_crew'))\n",
    "\n",
    "# Create a boolean index to select the appropriate rows\n",
    "boolean_filter = ((crews_self_merged['job_dir'] == 'Director') & \n",
    "                  (crews_self_merged['job_crew'] != 'Director'))\n",
    "direct_crews = crews_self_merged[boolean_filter]\n",
    "\n",
    "# Print the first few rows of direct_crews\n",
    "print(direct_crews.head())"
   ]
  },
  {
   "cell_type": "markdown",
   "metadata": {},
   "source": [
    "<script.py> output:\n",
    "            id   job_dir       name_dir        job_crew          name_crew\n",
    "    156  19995  Director  James Cameron          Editor  Stephen E. Rivkin\n",
    "    157  19995  Director  James Cameron  Sound Designer  Christopher Boyes\n",
    "    158  19995  Director  James Cameron         Casting          Mali Finn\n",
    "    160  19995  Director  James Cameron          Writer      James Cameron\n",
    "    161  19995  Director  James Cameron    Set Designer    Richard F. Mays"
   ]
  }
 ],
 "metadata": {
  "language_info": {
   "name": "python"
  },
  "orig_nbformat": 4
 },
 "nbformat": 4,
 "nbformat_minor": 2
}
